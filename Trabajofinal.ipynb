
Título: Asistente Virtual para la Gestión del Tiempo
Resumen
El proyecto "Asistente Virtual para la Gestión del Tiempo" busca abordar las dificultades contemporáneas en la gestión eficaz del tiempo, tanto en ámbitos personales como profesionales. Utilizando tecnologías avanzadas de Inteligencia Artificial (IA), incluyendo el procesamiento del lenguaje natural (NLP) y la visión por computadora, este asistente virtual se propone como una herramienta innovadora capaz de entender y responder a consultas relacionadas con la organización del tiempo. A través de prompts específicos de IA y el procesamiento de imágenes, el asistente facilitará la organización de agendas, recordatorios, y la digitalización de tareas y eventos desde formatos físicos a digitales, promoviendo una mejor gestión del tiempo y una mayor productividad.

Introducción
Nombre del Proyecto: Asistente Virtual para la Gestión del Tiempo

Presentación del Problema a Abordar: En el acelerado mundo actual, la gestión eficiente del tiempo se ha convertido en un desafío significativo. La proliferación de distracciones y la creciente carga de tareas personales y profesionales pueden llevar a una gestión del tiempo ineficaz, resultando en estrés, disminución de la productividad y afectando negativamente la calidad de vida. La necesidad de una solución efectiva para este problema es más relevante que nunca.

Desarrollo de la Propuesta de Solución: La solución propuesta se centra en el desarrollo de un asistente virtual inteligente, que utiliza la IA para ofrecer una gestión del tiempo más eficiente. Esta herramienta se basa en modelos de NLP para interpretar consultas verbales y escritas, y en tecnologías de visión por computadora para procesar información visual como notas manuscritas y calendarios físicos. Los prompts diseñados para la IA permitirán al usuario interactuar con el asistente de manera intuitiva, solicitando la organización de agendas, la configuración de recordatorios, y la digitalización de documentos relacionados con la gestión del tiempo.

Justificación de la Viabilidad del Proyecto: Este proyecto es técnicamente viable gracias al avance y disponibilidad de tecnologías de IA, como NLP y visión por computadora, y a plataformas de IA de código abierto. El desarrollo se ajusta a un marco temporal realista, con recursos accesibles que incluyen bibliotecas y APIs de IA. La elección de tecnologías y herramientas se basa en su probada eficacia y en la posibilidad de implementar un prototipo funcional dentro del plazo estipulado para el proyecto.

Objetivos
Objetivo General: Desarrollar un asistente virtual basado en IA capaz de mejorar la gestión del tiempo de los usuarios a través de la interpretación y respuesta a consultas relacionadas con la organización del tiempo y la digitalización de tareas y eventos.

Objetivos Específicos:

Implementar modelos de NLP para el reconocimiento y procesamiento de consultas textuales y verbales relacionadas con la gestión del tiempo.
Utilizar tecnologías de visión por computadora para la digitalización de documentos y notas manuscritas, facilitando su integración en sistemas de gestión digital.
Desarrollar una interfaz de usuario intuitiva que permita una interacción fluida y natural con el asistente virtual.
Evaluar la efectividad del asistente virtual en la mejora de la productividad y la gestión del tiempo de los usuarios.





Codigo fuente 


import sqlite3
import openai
import ipywidgets as widgets
from IPython.display import display, clear_output, Image
import os
import io
from PIL import Image as PILImage
import pytesseract


pytesseract.pytesseract.tesseract_cmd = r'<ruta_a_tu_tesseract.exe>'

openai.api_key = 'me la bloquea chatGPT'


conn = sqlite3.connect('asistente_ai.db')
c = conn.cursor()
c.execute('''CREATE TABLE IF NOT EXISTS historial
             (id INTEGER PRIMARY KEY, solicitud TEXT, respuesta TEXT, fecha TIMESTAMP DEFAULT CURRENT_TIMESTAMP)''')
conn.commit()

def generar_respuesta_gpt3(texto_entrada):
    """Genera una respuesta utilizando OpenAI GPT-3."""
    try:
        respuesta = openai.ChatCompletion.create(
            model="gpt-3.5-turbo-1106",
            messages=[
                {"role": "system", "content": "Tienes una conversación con un asistente inteligente."},
                {"role": "user", "content": texto_entrada}
            ]
        )
        mensaje_respuesta = respuesta.choices[0].message['content']
        # Guardar en la base de datos SQLite
        c.execute("INSERT INTO historial (solicitud, respuesta) VALUES (?, ?)", (texto_entrada, mensaje_respuesta))
        conn.commit()
        return mensaje_respuesta
    except Exception as e:
        return f"Error: {e}"

def al_clicar(boton):
    """Maneja el evento de clic en el botón de enviar."""
    with area_respuesta:
        clear_output()
        print("Procesando tu solicitud...")
        respuesta_gpt3 = generar_respuesta_gpt3(texto_entrada.value)
        print(f"Respuesta: {respuesta_gpt3}")

def procesar_y_mostrar_imagen(cargador):
    """Procesa la imagen cargada usando OCR y muestra el texto extraído."""
    for nombre, archivo in cargador.value.items():
        imagen_bytes = io.BytesIO(archivo['content'])
        texto = pytesseract.image_to_string(PILImage.open(imagen_bytes))
        print(f"Texto extraído de {nombre}:")
        print(texto)
        display(PILImage.open(imagen_bytes))


texto_entrada = widgets.Text(placeholder='Escribe aquí tu pregunta', description='Pregunta:', disabled=False)
boton_enviar = widgets.Button(description='Enviar', button_style='', tooltip='Haz clic para enviar')
area_respuesta = widgets.Output()
cargador_imagenes = widgets.FileUpload(accept='image/*', multiple=False)
cargador_imagenes.observe(procesar_y_mostrar_imagen, names='value')

boton_enviar.on_click(al_clicar)


display(widgets.VBox([texto_entrada, boton_enviar, area_respuesta, cargador_imagenes]))
